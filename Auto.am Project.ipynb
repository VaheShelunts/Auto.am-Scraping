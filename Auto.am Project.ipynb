{
 "cells": [
  {
   "cell_type": "markdown",
   "metadata": {},
   "source": [
    "# Data Fetching from Auto.am"
   ]
  },
  {
   "cell_type": "markdown",
   "metadata": {},
   "source": [
    "This project aims to collect data from auto.am using different scraping tools (Scrapy and Selenium) and see the frequency distribution of car brands as well as years of manufacturing. Auto.am is the biggest Armenian online platform for selling cars.\n",
    "Another objective of this project is to get the data which would provide some meaningful insights into Armenian car market. For that reason, only data about customs-cleared automobiles will be scraped. This data could be useful for different applications."
   ]
  },
  {
   "cell_type": "code",
   "execution_count": 124,
   "metadata": {},
   "outputs": [],
   "source": [
    "import re\n",
    "import time\n",
    "import requests\n",
    "import numpy as np\n",
    "import pandas as pd\n",
    "from scrapy.http import TextResponse\n",
    "import time\n",
    "import requests\n",
    "import pandas as pd\n",
    "from selenium import webdriver\n",
    "import selenium.webdriver.common.keys as Keys\n",
    "from webdriver_manager.chrome import ChromeDriverManager\n",
    "import matplotlib.pyplot as plt"
   ]
  },
  {
   "cell_type": "code",
   "execution_count": 2,
   "metadata": {
    "scrolled": true
   },
   "outputs": [
    {
     "name": "stdout",
     "output_type": "stream",
     "text": [
      "\n",
      "Checking for mac64 chromedriver:76.0.3809.126 in cache\n",
      "Driver found in /Users/vahe_shelunts/.wdm/chromedriver/76.0.3809.126/mac64/chromedriver\n"
     ]
    },
    {
     "name": "stderr",
     "output_type": "stream",
     "text": [
      "/Users/vahe_shelunts/anaconda3/lib/python3.7/site-packages/ipykernel_launcher.py:2: DeprecationWarning: executable_path has been deprecated, please pass in a Service object\n",
      "  \n"
     ]
    }
   ],
   "source": [
    "url='https://auto.am/'\n",
    "browser = webdriver.Chrome(ChromeDriverManager().install())\n",
    "browser.get(url)"
   ]
  },
  {
   "cell_type": "code",
   "execution_count": 3,
   "metadata": {},
   "outputs": [],
   "source": [
    "browser.find_element_by_class_name('lever').click()\n",
    "browser.find_element_by_class_name('toggle-adv-search ').click()"
   ]
  },
  {
   "cell_type": "code",
   "execution_count": 4,
   "metadata": {},
   "outputs": [],
   "source": [
    "browser.find_element_by_id('search-btn').click()"
   ]
  },
  {
   "cell_type": "markdown",
   "metadata": {},
   "source": [
    "To scrape the listings from all pages, the list with all urls will be needed. Url names can be changed by changing the number of the page (e.g. 1,2,5) in the url name. The problem with the website is that from page 200 onwards, indexing in the url name by page does not work. For that reason, a filter will be applied to scrape the data in smaller cohorts (with all listings available in less than 200 pages). The Year of Manufacturing filter will be applied and data will be fetched in 3 parts, listing from production years 1980-2002,2002-2015 and 2015 and 2019. These segments were chosen randomly. The lists will be combined later."
   ]
  },
  {
   "cell_type": "code",
   "execution_count": 5,
   "metadata": {},
   "outputs": [],
   "source": [
    "browser.find_element_by_id('range-85-to').clear()"
   ]
  },
  {
   "cell_type": "code",
   "execution_count": 6,
   "metadata": {},
   "outputs": [],
   "source": [
    "browser.find_element_by_id('range-85-to').send_keys('2002')"
   ]
  },
  {
   "cell_type": "code",
   "execution_count": 7,
   "metadata": {},
   "outputs": [],
   "source": [
    "browser.find_element_by_id('research-btn').click()"
   ]
  },
  {
   "cell_type": "code",
   "execution_count": 8,
   "metadata": {},
   "outputs": [],
   "source": [
    "all_urls=[\"https://auto.am/search/passenger-cars?q={%22category%22:%221%22,%22page%22:%22\"+str(i)+\"%22,%22sort%22:%22latest%22,%22layout%22:%22list%22,%22user%22:{%22dealer%22:%220%22,%22id%22:%22%22},%22year%22:{%22gt%22:%221911%22,%22lt%22:%222002%22},%22usdprice%22:{%22gt%22:%220%22,%22lt%22:%22100000000%22},%22custcleared%22:%221%22,%22mileage%22:{%22gt%22:%2210%22,%22lt%22:%221000000%22}}\" for i in range(1,186)]"
   ]
  },
  {
   "cell_type": "code",
   "execution_count": 9,
   "metadata": {},
   "outputs": [
    {
     "data": {
      "text/plain": [
       "['https://auto.am/search/passenger-cars?q={%22category%22:%221%22,%22page%22:%221%22,%22sort%22:%22latest%22,%22layout%22:%22list%22,%22user%22:{%22dealer%22:%220%22,%22id%22:%22%22},%22year%22:{%22gt%22:%221911%22,%22lt%22:%222002%22},%22usdprice%22:{%22gt%22:%220%22,%22lt%22:%22100000000%22},%22custcleared%22:%221%22,%22mileage%22:{%22gt%22:%2210%22,%22lt%22:%221000000%22}}',\n",
       " 'https://auto.am/search/passenger-cars?q={%22category%22:%221%22,%22page%22:%222%22,%22sort%22:%22latest%22,%22layout%22:%22list%22,%22user%22:{%22dealer%22:%220%22,%22id%22:%22%22},%22year%22:{%22gt%22:%221911%22,%22lt%22:%222002%22},%22usdprice%22:{%22gt%22:%220%22,%22lt%22:%22100000000%22},%22custcleared%22:%221%22,%22mileage%22:{%22gt%22:%2210%22,%22lt%22:%221000000%22}}',\n",
       " 'https://auto.am/search/passenger-cars?q={%22category%22:%221%22,%22page%22:%223%22,%22sort%22:%22latest%22,%22layout%22:%22list%22,%22user%22:{%22dealer%22:%220%22,%22id%22:%22%22},%22year%22:{%22gt%22:%221911%22,%22lt%22:%222002%22},%22usdprice%22:{%22gt%22:%220%22,%22lt%22:%22100000000%22},%22custcleared%22:%221%22,%22mileage%22:{%22gt%22:%2210%22,%22lt%22:%221000000%22}}',\n",
       " 'https://auto.am/search/passenger-cars?q={%22category%22:%221%22,%22page%22:%224%22,%22sort%22:%22latest%22,%22layout%22:%22list%22,%22user%22:{%22dealer%22:%220%22,%22id%22:%22%22},%22year%22:{%22gt%22:%221911%22,%22lt%22:%222002%22},%22usdprice%22:{%22gt%22:%220%22,%22lt%22:%22100000000%22},%22custcleared%22:%221%22,%22mileage%22:{%22gt%22:%2210%22,%22lt%22:%221000000%22}}',\n",
       " 'https://auto.am/search/passenger-cars?q={%22category%22:%221%22,%22page%22:%225%22,%22sort%22:%22latest%22,%22layout%22:%22list%22,%22user%22:{%22dealer%22:%220%22,%22id%22:%22%22},%22year%22:{%22gt%22:%221911%22,%22lt%22:%222002%22},%22usdprice%22:{%22gt%22:%220%22,%22lt%22:%22100000000%22},%22custcleared%22:%221%22,%22mileage%22:{%22gt%22:%2210%22,%22lt%22:%221000000%22}}']"
      ]
     },
     "execution_count": 9,
     "metadata": {},
     "output_type": "execute_result"
    }
   ],
   "source": [
    "all_urls[:5] #urls for different pages work"
   ]
  },
  {
   "cell_type": "code",
   "execution_count": 11,
   "metadata": {},
   "outputs": [],
   "source": [
    "page=browser.page_source\n",
    "response=TextResponse(url=browser.current_url, body=page, encoding = 'utf-8')"
   ]
  },
  {
   "cell_type": "code",
   "execution_count": 12,
   "metadata": {},
   "outputs": [
    {
     "data": {
      "text/plain": [
       "['1997', '1997', '2001', '1997', '1996']"
      ]
     },
     "execution_count": 12,
     "metadata": {},
     "output_type": "execute_result"
    }
   ],
   "source": [
    "response.css('span.grey-text::text').extract()[:5] #manufacturing years"
   ]
  },
  {
   "cell_type": "code",
   "execution_count": 13,
   "metadata": {},
   "outputs": [
    {
     "data": {
      "text/plain": [
       "['Mercedes-Benz E 320',\n",
       " 'Mercedes-Benz C 180',\n",
       " 'Nissan Skyline',\n",
       " 'Volkswagen Golf',\n",
       " 'Opel Vectra B']"
      ]
     },
     "execution_count": 13,
     "metadata": {},
     "output_type": "execute_result"
    }
   ],
   "source": [
    "#brands\n",
    "[i.strip() for i in response.css('div[class=\"pad-top-6 pad-bot-6\"]>span[class=\"card-title bold\"]::text').extract()[1::2][:5]]"
   ]
  },
  {
   "cell_type": "code",
   "execution_count": 10,
   "metadata": {},
   "outputs": [],
   "source": [
    "# Defining a function that will scrape data from all the urls\n",
    "def car_scraper(url):\n",
    "    browser.get(url)\n",
    "    time.sleep(2)\n",
    "    page=browser.page_source\n",
    "    response=TextResponse(url=url, body=page, encoding = 'utf-8')\n",
    "    years=response.css('span.grey-text::text').extract()\n",
    "    cars=[i.strip() for i in response.css('div[class=\"pad-top-6 pad-bot-6\"]>span[class=\"card-title bold\"]::text').extract()[1::2]]\n",
    "    return years,cars"
   ]
  },
  {
   "cell_type": "code",
   "execution_count": 8,
   "metadata": {},
   "outputs": [],
   "source": [
    "all_urls1=[\"https://auto.am/search/passenger-cars?q={%22category%22:%221%22,%22page%22:%22\"+str(i)+\"%22,%22sort%22:%22latest%22,%22layout%22:%22list%22,%22user%22:{%22dealer%22:%220%22,%22id%22:%22%22},%22year%22:{%22gt%22:%221911%22,%22lt%22:%222002%22},%22usdprice%22:{%22gt%22:%220%22,%22lt%22:%22100000000%22},%22custcleared%22:%221%22,%22mileage%22:{%22gt%22:%2210%22,%22lt%22:%221000000%22}}\" for i in range(1,20)]"
   ]
  },
  {
   "cell_type": "code",
   "execution_count": 43,
   "metadata": {},
   "outputs": [],
   "source": [
    "#getting car brands and their respective years of manufacturing from all urls\n",
    "all_cars=[]\n",
    "all_years=[]\n",
    "for i in all_urls:\n",
    "    all_years.extend(car_scraper(i)[0])\n",
    "    all_cars.extend(car_scraper(i)[1])"
   ]
  },
  {
   "cell_type": "code",
   "execution_count": 42,
   "metadata": {},
   "outputs": [
    {
     "name": "stdout",
     "output_type": "stream",
     "text": [
      "8539\n",
      "8539\n"
     ]
    }
   ],
   "source": [
    "print(len(all_cars)) \n",
    "print(len(all_years))"
   ]
  },
  {
   "cell_type": "markdown",
   "metadata": {},
   "source": [
    "All the data have been scraped. \n",
    "Now the filters will be changed, to scrape data about automobiles from 2003-2012 years."
   ]
  },
  {
   "cell_type": "code",
   "execution_count": 30,
   "metadata": {},
   "outputs": [],
   "source": [
    "browser.find_element_by_id('range-85-from').clear()"
   ]
  },
  {
   "cell_type": "code",
   "execution_count": 31,
   "metadata": {},
   "outputs": [],
   "source": [
    "browser.find_element_by_id('range-85-from').send_keys('2003')"
   ]
  },
  {
   "cell_type": "code",
   "execution_count": 32,
   "metadata": {},
   "outputs": [],
   "source": [
    "browser.find_element_by_id('range-85-to').clear()"
   ]
  },
  {
   "cell_type": "code",
   "execution_count": 33,
   "metadata": {},
   "outputs": [],
   "source": [
    "browser.find_element_by_id('range-85-to').send_keys('2007')"
   ]
  },
  {
   "cell_type": "code",
   "execution_count": 34,
   "metadata": {},
   "outputs": [],
   "source": [
    "browser.find_element_by_id('research-btn').click()"
   ]
  },
  {
   "cell_type": "code",
   "execution_count": 35,
   "metadata": {},
   "outputs": [],
   "source": [
    "#second set of urls for cars of 2003-2007 yy\n",
    "all_urls2=['https://auto.am/search/passenger-cars?q={%22category%22:%221%22,%22page%22:%22'+str(i)+'%22,%22sort%22:%22latest%22,%22layout%22:%22list%22,%22user%22:{%22dealer%22:%220%22,%22id%22:%22%22},%22year%22:{%22gt%22:%222003%22,%22lt%22:%222007%22},%22usdprice%22:{%22gt%22:%220%22,%22lt%22:%22100000000%22},%22custcleared%22:%221%22,%22mileage%22:{%22gt%22:%2210%22,%22lt%22:%221000000%22}}' for i in range(1,172)]"
   ]
  },
  {
   "cell_type": "code",
   "execution_count": 38,
   "metadata": {},
   "outputs": [
    {
     "data": {
      "text/plain": [
       "['https://auto.am/search/passenger-cars?q={%22category%22:%221%22,%22page%22:%221%22,%22sort%22:%22latest%22,%22layout%22:%22list%22,%22user%22:{%22dealer%22:%220%22,%22id%22:%22%22},%22year%22:{%22gt%22:%222003%22,%22lt%22:%222007%22},%22usdprice%22:{%22gt%22:%220%22,%22lt%22:%22100000000%22},%22custcleared%22:%221%22,%22mileage%22:{%22gt%22:%2210%22,%22lt%22:%221000000%22}}',\n",
       " 'https://auto.am/search/passenger-cars?q={%22category%22:%221%22,%22page%22:%222%22,%22sort%22:%22latest%22,%22layout%22:%22list%22,%22user%22:{%22dealer%22:%220%22,%22id%22:%22%22},%22year%22:{%22gt%22:%222003%22,%22lt%22:%222007%22},%22usdprice%22:{%22gt%22:%220%22,%22lt%22:%22100000000%22},%22custcleared%22:%221%22,%22mileage%22:{%22gt%22:%2210%22,%22lt%22:%221000000%22}}',\n",
       " 'https://auto.am/search/passenger-cars?q={%22category%22:%221%22,%22page%22:%223%22,%22sort%22:%22latest%22,%22layout%22:%22list%22,%22user%22:{%22dealer%22:%220%22,%22id%22:%22%22},%22year%22:{%22gt%22:%222003%22,%22lt%22:%222007%22},%22usdprice%22:{%22gt%22:%220%22,%22lt%22:%22100000000%22},%22custcleared%22:%221%22,%22mileage%22:{%22gt%22:%2210%22,%22lt%22:%221000000%22}}']"
      ]
     },
     "execution_count": 38,
     "metadata": {},
     "output_type": "execute_result"
    }
   ],
   "source": [
    "all_urls2[:3]"
   ]
  },
  {
   "cell_type": "code",
   "execution_count": 40,
   "metadata": {},
   "outputs": [],
   "source": [
    "#getting car brands and their respective years of manufacturing from all urls\n",
    "for i in all_urls2:\n",
    "    all_years.extend(car_scraper(i)[0])\n",
    "    all_cars.extend(car_scraper(i)[1])"
   ]
  },
  {
   "cell_type": "code",
   "execution_count": 44,
   "metadata": {},
   "outputs": [
    {
     "name": "stdout",
     "output_type": "stream",
     "text": [
      "17789\n",
      "17789\n"
     ]
    }
   ],
   "source": [
    "print(len(all_cars))\n",
    "print(len(all_years))"
   ]
  },
  {
   "cell_type": "code",
   "execution_count": 45,
   "metadata": {},
   "outputs": [],
   "source": [
    "#urls for remaining years 2oo8-2019 yy.\n",
    "all_urls3=['https://auto.am/search/passenger-cars?q={%22category%22:%221%22,%22page%22:%22'+str(i)+'%22,%22sort%22:%22latest%22,%22layout%22:%22list%22,%22user%22:{%22dealer%22:%220%22,%22id%22:%22%22},%22year%22:{%22gt%22:%222008%22,%22lt%22:%222019%22},%22usdprice%22:{%22gt%22:%220%22,%22lt%22:%22100000000%22},%22custcleared%22:%221%22,%22mileage%22:{%22gt%22:%2210%22,%22lt%22:%221000000%22}}' for i in range(1,177)]"
   ]
  },
  {
   "cell_type": "code",
   "execution_count": 47,
   "metadata": {},
   "outputs": [],
   "source": [
    "#getting car brands and their respective years of manufacturing from all urls\n",
    "for i in all_urls3:\n",
    "    all_years.extend(car_scraper(i)[0])\n",
    "    all_cars.extend(car_scraper(i)[1])"
   ]
  },
  {
   "cell_type": "code",
   "execution_count": 48,
   "metadata": {},
   "outputs": [
    {
     "name": "stdout",
     "output_type": "stream",
     "text": [
      "26550\n",
      "26550\n"
     ]
    }
   ],
   "source": [
    "print(len(all_cars)) #all the data has been scraped\n",
    "print(len(all_years))"
   ]
  },
  {
   "cell_type": "code",
   "execution_count": 50,
   "metadata": {},
   "outputs": [],
   "source": [
    "data.to_excel('auto.am_data.xlsx') #exporting to excel for later usage"
   ]
  },
  {
   "cell_type": "code",
   "execution_count": 87,
   "metadata": {},
   "outputs": [],
   "source": [
    "all_brands=[i.split()[0] for i in all_cars] #creating two new lists (brand name and model) from all_brand strings\n",
    "all_models=[i.split()[-1] for i in all_cars]"
   ]
  },
  {
   "cell_type": "code",
   "execution_count": 88,
   "metadata": {},
   "outputs": [],
   "source": [
    "data=pd.DataFrame({\"Brand\":all_brands,\"Model\":all_models,\"Year\":all_years}) #creating a dataframe for analysis"
   ]
  },
  {
   "cell_type": "code",
   "execution_count": 89,
   "metadata": {},
   "outputs": [
    {
     "data": {
      "text/html": [
       "<div>\n",
       "<style scoped>\n",
       "    .dataframe tbody tr th:only-of-type {\n",
       "        vertical-align: middle;\n",
       "    }\n",
       "\n",
       "    .dataframe tbody tr th {\n",
       "        vertical-align: top;\n",
       "    }\n",
       "\n",
       "    .dataframe thead th {\n",
       "        text-align: right;\n",
       "    }\n",
       "</style>\n",
       "<table border=\"1\" class=\"dataframe\">\n",
       "  <thead>\n",
       "    <tr style=\"text-align: right;\">\n",
       "      <th></th>\n",
       "      <th>Brand</th>\n",
       "      <th>Model</th>\n",
       "      <th>Year</th>\n",
       "    </tr>\n",
       "  </thead>\n",
       "  <tbody>\n",
       "    <tr>\n",
       "      <th>0</th>\n",
       "      <td>Mini</td>\n",
       "      <td>Cooper</td>\n",
       "      <td>2005</td>\n",
       "    </tr>\n",
       "    <tr>\n",
       "      <th>1</th>\n",
       "      <td>Toyota</td>\n",
       "      <td>Camry</td>\n",
       "      <td>2007</td>\n",
       "    </tr>\n",
       "    <tr>\n",
       "      <th>2</th>\n",
       "      <td>Nissan</td>\n",
       "      <td>March</td>\n",
       "      <td>2006</td>\n",
       "    </tr>\n",
       "    <tr>\n",
       "      <th>3</th>\n",
       "      <td>Audi</td>\n",
       "      <td>Q7</td>\n",
       "      <td>2006</td>\n",
       "    </tr>\n",
       "    <tr>\n",
       "      <th>4</th>\n",
       "      <td>Nissan</td>\n",
       "      <td>Teana</td>\n",
       "      <td>2005</td>\n",
       "    </tr>\n",
       "  </tbody>\n",
       "</table>\n",
       "</div>"
      ],
      "text/plain": [
       "    Brand   Model  Year\n",
       "0    Mini  Cooper  2005\n",
       "1  Toyota   Camry  2007\n",
       "2  Nissan   March  2006\n",
       "3    Audi      Q7  2006\n",
       "4  Nissan   Teana  2005"
      ]
     },
     "execution_count": 89,
     "metadata": {},
     "output_type": "execute_result"
    }
   ],
   "source": [
    "data.head()"
   ]
  },
  {
   "cell_type": "code",
   "execution_count": 103,
   "metadata": {
    "scrolled": false
   },
   "outputs": [
    {
     "name": "stdout",
     "output_type": "stream",
     "text": [
      "Mercedes-Benz    5751\n",
      "Opel             2838\n",
      "Nissan           2525\n",
      "BMW              2473\n",
      "Toyota           2410\n",
      "VAZ(Lada)        1279\n",
      "Volkswagen       1064\n",
      "Mitsubishi        814\n",
      "Honda             797\n",
      "Hyundai           776\n",
      "Name: Brand, dtype: int64\n",
      "\n",
      "\n",
      "Mercedes-Benz    0.216610\n",
      "Opel             0.106893\n",
      "Nissan           0.095104\n",
      "BMW              0.093145\n",
      "Toyota           0.090772\n",
      "VAZ(Lada)        0.048173\n",
      "Volkswagen       0.040075\n",
      "Mitsubishi       0.030659\n",
      "Honda            0.030019\n",
      "Hyundai          0.029228\n",
      "Name: Brand, dtype: float64\n"
     ]
    }
   ],
   "source": [
    "print(data.Brand.value_counts()[:10]) #brands with highest quantities\n",
    "print('\\n')\n",
    "print(data.Brand.value_counts(normalize=True)[:10])"
   ]
  },
  {
   "cell_type": "markdown",
   "metadata": {},
   "source": [
    "Most cars sold on auto.am are Mercedez-Benz. Interestingly enough, the percentage of cars is twice as much as that of other brand in top 5. Besides the fact that Mercedez-Bez is popular among people living in Armenia (and perhapes Armenians in general, more research needed on this), Mercedenz-Benz is a very durable car and many cars of 1990s years of production are still usable these days. It can be assumed that a certain proportion of Mercedez cars constitutes those ofn 1990s years of production. I will check it now."
   ]
  },
  {
   "cell_type": "code",
   "execution_count": 113,
   "metadata": {},
   "outputs": [
    {
     "data": {
      "text/plain": [
       "1998    451\n",
       "2000    440\n",
       "1997    410\n",
       "1996    388\n",
       "2006    382\n",
       "2007    357\n",
       "2001    337\n",
       "1999    325\n",
       "2008    303\n",
       "2005    300\n",
       "Name: Year, dtype: int64"
      ]
     },
     "execution_count": 113,
     "metadata": {},
     "output_type": "execute_result"
    }
   ],
   "source": [
    "data[data.Brand=='Mercedes-Benz'].Year.value_counts()[:10]"
   ]
  },
  {
   "cell_type": "markdown",
   "metadata": {},
   "source": [
    "As shown by the output above, most Mercedes cars listed on the website were produced in 1990-2000 yy. which justifies my assumption.\n",
    "The same test can be done for other brand in top 3 such as Opel and Nissan."
   ]
  },
  {
   "cell_type": "code",
   "execution_count": 126,
   "metadata": {
    "scrolled": true
   },
   "outputs": [
    {
     "data": {
      "image/png": "[encoded data removed]",
      "text/plain": [
       "<Figure size 432x288 with 1 Axes>"
      ]
     },
     "metadata": {
      "needs_background": "light"
     },
     "output_type": "display_data"
    }
   ],
   "source": [
    "data[data.Brand=='Opel'].Year.value_counts()[:10].plot(kind='bar');\n",
    "plt.title('Number of Opel Cars Across Years of Manufacturing');"
   ]
  },
  {
   "cell_type": "code",
   "execution_count": 128,
   "metadata": {},
   "outputs": [
    {
     "data": {
      "image/png": "[encoded data removed]",
      "text/plain": [
       "<Figure size 432x288 with 1 Axes>"
      ]
     },
     "metadata": {
      "needs_background": "light"
     },
     "output_type": "display_data"
    }
   ],
   "source": [
    "data[data.Brand=='Nissan'].Year.value_counts()[:10].plot(kind='barh');\n",
    "plt.title('Number of Nissan Cars Across Years of Manufacturing');"
   ]
  },
  {
   "cell_type": "code",
   "execution_count": 92,
   "metadata": {},
   "outputs": [
    {
     "data": {
      "text/plain": [
       "Opel Astra             1581\n",
       "Toyota Camry            947\n",
       "Mercedes-Benz C 180     764\n",
       "Mercedes-Benz E 320     628\n",
       "Nissan Tiida            626\n",
       "Opel Zafira             550\n",
       "BMW X5                  411\n",
       "Mercedes-Benz E 350     407\n",
       "Nissan Teana            393\n",
       "Toyota Alphard          346\n",
       "dtype: int64"
      ]
     },
     "execution_count": 92,
     "metadata": {},
     "output_type": "execute_result"
    }
   ],
   "source": [
    "brands=pd.Series(all_cars) #looking at the frequency of brand+model, noy included in the final dataframe\n",
    "brands.value_counts()[:10]"
   ]
  },
  {
   "cell_type": "code",
   "execution_count": 129,
   "metadata": {
    "scrolled": true
   },
   "outputs": [
    {
     "data": {
      "text/plain": [
       "2006    1947\n",
       "2008    1944\n",
       "2007    1899\n",
       "2005    1675\n",
       "2004    1639\n",
       "2003    1379\n",
       "2000    1378\n",
       "1999    1333\n",
       "2002    1246\n",
       "2001    1227\n",
       "Name: Year, dtype: int64"
      ]
     },
     "execution_count": 129,
     "metadata": {},
     "output_type": "execute_result"
    }
   ],
   "source": [
    "data.Year.value_counts()[:10] #highest number of cars are produced in these years"
   ]
  }
 ],
 "metadata": {
  "kernelspec": {
   "display_name": "Python 3",
   "language": "python",
   "name": "python3"
  },
  "language_info": {
   "codemirror_mode": {
    "name": "ipython",
    "version": 3
   },
   "file_extension": ".py",
   "mimetype": "text/x-python",
   "name": "python",
   "nbconvert_exporter": "python",
   "pygments_lexer": "ipython3",
   "version": "3.7.3"
  }
 },
 "nbformat": 4,
 "nbformat_minor": 2
}
